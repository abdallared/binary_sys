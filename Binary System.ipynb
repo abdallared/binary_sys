{
 "cells": [
  {
   "cell_type": "code",
   "execution_count": 1,
   "id": "85f805d2",
   "metadata": {},
   "outputs": [],
   "source": [
    "class Circle():\n",
    "    \n",
    "    def __init__(self , r):\n",
    "        \n",
    "        self.r = r\n",
    "        \n",
    "    def area(self):\n",
    "        print(f'area = {self.r**2 * 3.14}')\n",
    "    \n",
    "    "
   ]
  },
  {
   "cell_type": "code",
   "execution_count": 2,
   "id": "e00e31f5",
   "metadata": {},
   "outputs": [],
   "source": [
    "c1 = Circle(3)"
   ]
  },
  {
   "cell_type": "code",
   "execution_count": 3,
   "id": "939a519d",
   "metadata": {},
   "outputs": [
    {
     "data": {
      "text/plain": [
       "3"
      ]
     },
     "execution_count": 3,
     "metadata": {},
     "output_type": "execute_result"
    }
   ],
   "source": [
    "c1.r"
   ]
  },
  {
   "cell_type": "code",
   "execution_count": 4,
   "id": "6d5943ab",
   "metadata": {},
   "outputs": [
    {
     "name": "stdout",
     "output_type": "stream",
     "text": [
      "area = 28.26\n"
     ]
    }
   ],
   "source": [
    "c1.area()"
   ]
  },
  {
   "cell_type": "code",
   "execution_count": 13,
   "id": "ad7be66b",
   "metadata": {},
   "outputs": [],
   "source": [
    "class Circle():\n",
    "    \n",
    "    def __init__(self , r , x):\n",
    "        \n",
    "        self.__r = r\n",
    "        self.x = x \n",
    "        \n",
    "    def set_r(self , new_r):\n",
    "        self.__r = new_r\n",
    "        \n",
    "       \n",
    "    def get_r(self):\n",
    "        return self.__r\n",
    "        \n",
    "    def area(self):\n",
    "        print(f'area = {self.r**2 * 3.14}')\n",
    "    \n",
    "    "
   ]
  },
  {
   "cell_type": "code",
   "execution_count": 14,
   "id": "88d5f255",
   "metadata": {},
   "outputs": [],
   "source": [
    "c2 = Circle(21 , 2)"
   ]
  },
  {
   "cell_type": "code",
   "execution_count": 15,
   "id": "75dcdcb8",
   "metadata": {},
   "outputs": [
    {
     "data": {
      "text/plain": [
       "2"
      ]
     },
     "execution_count": 15,
     "metadata": {},
     "output_type": "execute_result"
    }
   ],
   "source": [
    "c2.x"
   ]
  },
  {
   "cell_type": "code",
   "execution_count": 16,
   "id": "cd371d88",
   "metadata": {},
   "outputs": [
    {
     "data": {
      "text/plain": [
       "21"
      ]
     },
     "execution_count": 16,
     "metadata": {},
     "output_type": "execute_result"
    }
   ],
   "source": [
    "c2.get_r()"
   ]
  },
  {
   "cell_type": "code",
   "execution_count": 17,
   "id": "53577bb6",
   "metadata": {},
   "outputs": [],
   "source": [
    "c2.set_r(new_r=10)"
   ]
  },
  {
   "cell_type": "code",
   "execution_count": 18,
   "id": "08725639",
   "metadata": {},
   "outputs": [
    {
     "data": {
      "text/plain": [
       "10"
      ]
     },
     "execution_count": 18,
     "metadata": {},
     "output_type": "execute_result"
    }
   ],
   "source": [
    "c2.get_r()"
   ]
  },
  {
   "cell_type": "markdown",
   "id": "d4ea6215",
   "metadata": {},
   "source": [
    "## Binary To Decimal"
   ]
  },
  {
   "cell_type": "code",
   "execution_count": 6,
   "id": "b2679119",
   "metadata": {},
   "outputs": [],
   "source": [
    "import csv"
   ]
  },
  {
   "cell_type": "code",
   "execution_count": 7,
   "id": "14180bea",
   "metadata": {},
   "outputs": [],
   "source": [
    "with open('Data.csv' , mode = 'w' , encoding='utf-8' , newline='') as f:\n",
    "    \n",
    "    writer = csv.writer(f)\n",
    "    \n",
    "    \n",
    "    writer.writerow([ 'Binary' , 'Decimal'])"
   ]
  },
  {
   "cell_type": "code",
   "execution_count": 8,
   "id": "b6c7aa5b",
   "metadata": {},
   "outputs": [],
   "source": [
    "!Data.csv"
   ]
  },
  {
   "cell_type": "code",
   "execution_count": 9,
   "id": "c952d6ce",
   "metadata": {},
   "outputs": [],
   "source": [
    "class System():\n",
    "    \n",
    "    bin_num = ''\n",
    "    dec_num = 0\n",
    "    \n",
    "    def Display(self):\n",
    "        print(' {} in binary equal to {} in decimal'.format(self.bin_num , self.dec_num).title())\n",
    "    \n",
    "    \n",
    "    \n",
    "    # save to file \n",
    "    def SaveData(self):\n",
    "        with open('Data.csv' , mode = 'a' , encoding='utf-8' , newline='') as f:\n",
    "    \n",
    "            writer = csv.writer(f)\n",
    "\n",
    "\n",
    "            writer.writerow([ self.bin_num , self.dec_num])\n",
    "        print('Done!')\n"
   ]
  },
  {
   "cell_type": "code",
   "execution_count": 10,
   "id": "3eb69d6b",
   "metadata": {},
   "outputs": [],
   "source": [
    "class BinaryToDecimal(System):\n",
    "    \n",
    "        \n",
    "    def __init__(self , bin_num):\n",
    "        \n",
    "        self.bin_num = bin_num\n",
    "        \n",
    "        \n",
    "    \n",
    "    def ConvertToDecimal(self):\n",
    "        \n",
    "\n",
    "        bin_num_r = self.bin_num[::-1]\n",
    "\n",
    "        for i in range(len(bin_num_r)):\n",
    "            self.dec_num += int(bin_num_r[i]) * 2 ** i\n",
    "\n",
    "    \n",
    "    \n",
    "    \n",
    "    "
   ]
  },
  {
   "cell_type": "code",
   "execution_count": 11,
   "id": "cd037fe1",
   "metadata": {},
   "outputs": [],
   "source": [
    "b2 = BinaryToDecimal('10')"
   ]
  },
  {
   "cell_type": "code",
   "execution_count": 12,
   "id": "a973f6a0",
   "metadata": {},
   "outputs": [],
   "source": [
    "b2.ConvertToDecimal()"
   ]
  },
  {
   "cell_type": "code",
   "execution_count": 13,
   "id": "9caee1e9",
   "metadata": {},
   "outputs": [
    {
     "name": "stdout",
     "output_type": "stream",
     "text": [
      " 10 In Binary Equal To 2 In Decimal\n"
     ]
    }
   ],
   "source": [
    "b2.Display()"
   ]
  },
  {
   "cell_type": "code",
   "execution_count": 14,
   "id": "31a6531c",
   "metadata": {},
   "outputs": [
    {
     "name": "stdout",
     "output_type": "stream",
     "text": [
      "Done!\n"
     ]
    }
   ],
   "source": [
    "b2.SaveData()"
   ]
  },
  {
   "cell_type": "code",
   "execution_count": 15,
   "id": "2a845302",
   "metadata": {},
   "outputs": [],
   "source": [
    "class DecimalToBinary(System):\n",
    "    \n",
    "    def __init__(self , dec_num):\n",
    "        self.dec_num = dec_num\n",
    "        \n",
    "        \n",
    "    def ConvertToBinary(self):\n",
    "        n = self.dec_num\n",
    "        while n >= 1 :\n",
    "            if n % 2 == 0:\n",
    "                self.bin_num += '0'\n",
    "            else :\n",
    "                self.bin_num += '1'\n",
    "            n = int(n/2)\n",
    "        \n",
    "        self.bin_num = self.bin_num[::-1]\n",
    "    "
   ]
  },
  {
   "cell_type": "code",
   "execution_count": 16,
   "id": "aeef133c",
   "metadata": {},
   "outputs": [],
   "source": [
    "d1 = DecimalToBinary(1000)"
   ]
  },
  {
   "cell_type": "code",
   "execution_count": 17,
   "id": "ca1bace5",
   "metadata": {},
   "outputs": [],
   "source": [
    "d1.ConvertToBinary()"
   ]
  },
  {
   "cell_type": "code",
   "execution_count": 18,
   "id": "7e36c644",
   "metadata": {},
   "outputs": [
    {
     "name": "stdout",
     "output_type": "stream",
     "text": [
      " 1111101000 In Binary Equal To 1000 In Decimal\n"
     ]
    }
   ],
   "source": [
    "d1.Display()"
   ]
  },
  {
   "cell_type": "code",
   "execution_count": 19,
   "id": "25ba7f04",
   "metadata": {},
   "outputs": [
    {
     "name": "stdout",
     "output_type": "stream",
     "text": [
      "Done!\n"
     ]
    }
   ],
   "source": [
    "d1.SaveData()"
   ]
  },
  {
   "cell_type": "code",
   "execution_count": 20,
   "id": "1b8dbd4e",
   "metadata": {},
   "outputs": [],
   "source": [
    "!Data.csv"
   ]
  },
  {
   "cell_type": "code",
   "execution_count": 21,
   "id": "e5f7cd6c",
   "metadata": {},
   "outputs": [],
   "source": [
    "import pandas as pd "
   ]
  },
  {
   "cell_type": "code",
   "execution_count": 22,
   "id": "56690506",
   "metadata": {},
   "outputs": [
    {
     "data": {
      "text/html": [
       "<div>\n",
       "<style scoped>\n",
       "    .dataframe tbody tr th:only-of-type {\n",
       "        vertical-align: middle;\n",
       "    }\n",
       "\n",
       "    .dataframe tbody tr th {\n",
       "        vertical-align: top;\n",
       "    }\n",
       "\n",
       "    .dataframe thead th {\n",
       "        text-align: right;\n",
       "    }\n",
       "</style>\n",
       "<table border=\"1\" class=\"dataframe\">\n",
       "  <thead>\n",
       "    <tr style=\"text-align: right;\">\n",
       "      <th></th>\n",
       "      <th>Binary</th>\n",
       "      <th>Decimal</th>\n",
       "    </tr>\n",
       "  </thead>\n",
       "  <tbody>\n",
       "    <tr>\n",
       "      <th>0</th>\n",
       "      <td>10</td>\n",
       "      <td>2</td>\n",
       "    </tr>\n",
       "    <tr>\n",
       "      <th>1</th>\n",
       "      <td>1111101000</td>\n",
       "      <td>1000</td>\n",
       "    </tr>\n",
       "  </tbody>\n",
       "</table>\n",
       "</div>"
      ],
      "text/plain": [
       "       Binary  Decimal\n",
       "0          10        2\n",
       "1  1111101000     1000"
      ]
     },
     "execution_count": 22,
     "metadata": {},
     "output_type": "execute_result"
    }
   ],
   "source": [
    "pd.read_csv('Data.csv')"
   ]
  },
  {
   "cell_type": "code",
   "execution_count": null,
   "id": "e5080914",
   "metadata": {},
   "outputs": [],
   "source": []
  }
 ],
 "metadata": {
  "kernelspec": {
   "display_name": "Python 3 (ipykernel)",
   "language": "python",
   "name": "python3"
  },
  "language_info": {
   "codemirror_mode": {
    "name": "ipython",
    "version": 3
   },
   "file_extension": ".py",
   "mimetype": "text/x-python",
   "name": "python",
   "nbconvert_exporter": "python",
   "pygments_lexer": "ipython3",
   "version": "3.11.2"
  }
 },
 "nbformat": 4,
 "nbformat_minor": 5
}
